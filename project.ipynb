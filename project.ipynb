{
 "cells": [
  {
   "cell_type": "markdown",
   "id": "2cb7ef5d-98cf-46c7-bab6-7fb158846d4a",
   "metadata": {},
   "source": [
    "# Project\n",
    "\n",
    "The project should provide some useful functionality in science or engineering. It could be a command line utility, or a package to use in notebooks. There should be some substance, but it does not need to be extensive. I don't expect it should take more than a few hours to write the code. It is not necessary to write very sophisticated code. Overall the project should demonstrate you have learned something in this class.\n",
    "\n",
    "1. The project must be pip installable\n",
    "2. Your project should utilize git, and there should be a version history.\n",
    "3. Your project should have some tests.\n",
    "4. Your project should use at least one code quality tool.\n",
    "5. Your project should have a readme.md and LICENSE file.\n",
    "6. The code should be well documented.\n",
    "7. The code should be original work.\n",
    "8. You should push it to a GitHUB repo.\n",
    "\n",
    "At the end of the mini you will give a live demonstration of your project and what it does.\n",
    "\n",
    " \n"
   ]
  },
  {
   "cell_type": "markdown",
   "id": "b6d41fdc",
   "metadata": {},
   "source": [
    "Before you turn this problem in, make sure everything runs as expected. First, **restart the kernel** (in the menubar, select Kernel$\\rightarrow$Restart) and then **run all cells** (in the menubar, select Cell$\\rightarrow$Run All).\n",
    "\n",
    "Make sure you fill in any place that says `YOUR CODE HERE` or \"YOUR ANSWER HERE\", as well as your name and collaborators below:\n",
    "\n"
   ]
  },
  {
   "cell_type": "code",
   "execution_count": null,
   "id": "a464c58c",
   "metadata": {},
   "outputs": [],
   "source": [
    "NAME = \"Dalen Hsiao\"\n",
    "COLLABORATORS = \"\"\n",
    "\n"
   ]
  },
  {
   "cell_type": "markdown",
   "id": "91ee03be-6b1d-4eb7-a423-066e45d0977c",
   "metadata": {},
   "source": [
    "## Project demo\n",
    "In these cells show how your project is installed, and how it is used. If it is a CLI use %%bash cells to illustrate it. Or import the library and show what it does."
   ]
  },
  {
   "cell_type": "code",
   "execution_count": null,
   "id": "6beb50b5-5023-4d2e-9480-5f7508c9fc31",
   "metadata": {},
   "outputs": [],
   "source": [
    "%%bash\n"
   ]
  },
  {
   "cell_type": "markdown",
   "id": "0963c0db",
   "metadata": {},
   "source": [
    "## Show the outline of your project\n",
    "\n",
    "Use the `tree` command to show the structure of your project here."
   ]
  },
  {
   "cell_type": "code",
   "execution_count": 7,
   "id": "7bf74da2-e37e-4651-a43f-39f45851a375",
   "metadata": {},
   "outputs": [
    {
     "name": "stdout",
     "output_type": "stream",
     "text": [
      "\u001b[1;36mPskLOL\u001b[0m\n",
      "├── __init__.py\n",
      "├── \u001b[1;36m__pycache__\u001b[0m\n",
      "│   ├── __init__.cpython-311.pyc\n",
      "│   ├── _updatedb.cpython-311.pyc\n",
      "│   ├── category_search.cpython-311.pyc\n",
      "│   ├── get_paper.cpython-311.pyc\n",
      "│   └── update.cpython-311.pyc\n",
      "├── \u001b[1;36m_db\u001b[0m\n",
      "│   └── institute_db.json\n",
      "├── _updatedb.py\n",
      "├── category_search.py\n",
      "├── get_paper.py\n",
      "└── update.py\n",
      "\n",
      "3 directories, 11 files\n"
     ]
    }
   ],
   "source": [
    "!tree PskLOL"
   ]
  },
  {
   "cell_type": "markdown",
   "id": "851ccc9d-3821-4f6f-bef8-fa1f249cd7e5",
   "metadata": {},
   "source": [
    "## GitHUB\n",
    "\n",
    "Put a link to the GitHUB repo here."
   ]
  },
  {
   "cell_type": "markdown",
   "id": "b041969f-7da8-4308-9729-e1e8f7d82d75",
   "metadata": {},
   "source": [
    "[PskLOL: Package for Scientific Keyword search on Local database from OpenAlex Library](https://github.com/dalenhsiao/PskLOL)"
   ]
  },
  {
   "cell_type": "markdown",
   "id": "8f4aa046-824e-4602-813f-518290995de0",
   "metadata": {},
   "source": [
    "## Version control\n",
    "\n",
    "Describe your version control approach, and show that there is git history using the git log command."
   ]
  },
  {
   "cell_type": "code",
   "execution_count": 2,
   "id": "ea93edcd-4ca3-4835-bb5e-67d66f0fef7f",
   "metadata": {},
   "outputs": [
    {
     "name": "stdout",
     "output_type": "stream",
     "text": [
      "commit 2179391a7774328010cd5557806f173adc390078\n",
      "Author: dalenhsiao <dalenhsiao0523@gmail.com>\n",
      "Date:   Sat Apr 13 22:06:14 2024 -0400\n",
      "\n",
      "    add new function get paper title and doi to the package\n",
      "\n",
      "commit 6051970676fc30fd254be830966db867fd7547da\n",
      "Author: dalenhsiao <dalenhsiao0523@gmail.com>\n",
      "Date:   Wed Apr 10 23:40:03 2024 -0400\n",
      "\n",
      "    update and category_search\n",
      "\n",
      "commit 080d6d52bcaee55b4bd918a35272b6e2f43d76f7\n",
      "Author: dalenhsiao <dalenhsiao0523@gmail.com>\n",
      "Date:   Wed Apr 10 15:27:40 2024 -0400\n",
      "\n",
      "    init\n"
     ]
    }
   ],
   "source": [
    "%%bash\n",
    "cd ./PskLOL/\n",
    "git log"
   ]
  },
  {
   "cell_type": "markdown",
   "id": "6e37f408-8db6-44c5-b828-b40892b9c92b",
   "metadata": {},
   "source": [
    "## Code quality tool\n",
    "\n",
    "Describe the code quality tool you used in your project, and show evidence here of how it is implemented and how it is used."
   ]
  },
  {
   "cell_type": "code",
   "execution_count": 6,
   "id": "8db51d25-1751-4e12-ba21-11c24fd6d670",
   "metadata": {},
   "outputs": [
    {
     "name": "stdout",
     "output_type": "stream",
     "text": [
      "\u001b[1mwould reformat /Users/tungyuhsiao/Documents/CMU_MS/MS_Spring_2024/06643_swe/Project/PskLOL/category_search.py\u001b[0m\n",
      "\u001b[1mwould reformat /Users/tungyuhsiao/Documents/CMU_MS/MS_Spring_2024/06643_swe/Project/PskLOL/get_paper.py\u001b[0m\n",
      "\n",
      "\u001b[1mOh no! 💥 💔 💥\u001b[0m\n",
      "\u001b[34m\u001b[1m2 files \u001b[0m\u001b[1mwould be reformatted\u001b[0m, \u001b[34m3 files \u001b[0mwould be left unchanged.\n",
      "\u001b[1mPskLOL/__init__.py\u001b[m\u001b[36m:\u001b[m1\u001b[36m:\u001b[m1\u001b[36m:\u001b[m \u001b[1m\u001b[31mF401\u001b[m '.category_search.category_search' imported but unused\n",
      "\u001b[1mPskLOL/__init__.py\u001b[m\u001b[36m:\u001b[m2\u001b[36m:\u001b[m1\u001b[36m:\u001b[m \u001b[1m\u001b[31mF401\u001b[m '.update.update' imported but unused\n",
      "\u001b[1mPskLOL/__init__.py\u001b[m\u001b[36m:\u001b[m3\u001b[36m:\u001b[m1\u001b[36m:\u001b[m \u001b[1m\u001b[31mF401\u001b[m '.get_paper.get_paper' imported but unused\n"
     ]
    }
   ],
   "source": [
    "! black PskLOL/ --check\n",
    "! flake8 PskLOL/"
   ]
  },
  {
   "cell_type": "markdown",
   "id": "c28613ff-ee93-482e-8bec-e3d8d28a5de8",
   "metadata": {},
   "source": [
    "## Tests\n",
    "\n",
    "Describe the tests you built into your project and how they help ensure the project works, and that changes don't break functionality. In the cells below show how you run the tests, and that they work."
   ]
  },
  {
   "cell_type": "code",
   "execution_count": 3,
   "id": "0f0de12d-c16f-4aac-868c-11f0d072eb3e",
   "metadata": {
    "nbgrader": {
     "grade": true,
     "grade_id": "cell-92da3734a5a2e41e",
     "locked": false,
     "points": 0,
     "schema_version": 3,
     "solution": true,
     "task": false
    },
    "tags": []
   },
   "outputs": [
    {
     "name": "stdout",
     "output_type": "stream",
     "text": [
      "zsh:1: command not found: pytest\n"
     ]
    }
   ],
   "source": [
    "! pytest \n"
   ]
  },
  {
   "cell_type": "markdown",
   "id": "613d1a50-b2bb-41c8-b643-4883566ecee7",
   "metadata": {},
   "source": [
    "When you are done, download a PDF and turn it in on Canvas. Make sure to save your notebook, then run this cell and click on the download link."
   ]
  },
  {
   "cell_type": "code",
   "execution_count": null,
   "id": "d39da989-d274-4dc2-a01a-51a59375ffd9",
   "metadata": {
    "tags": [
     "raises-exception",
     "remove-output"
    ]
   },
   "outputs": [],
   "source": [
    "%run ~/s24-06643/s24.py\n",
    "%pdf"
   ]
  },
  {
   "cell_type": "markdown",
   "id": "6a974f57-c57c-4441-b2c9-4c6bc4a31ff7",
   "metadata": {},
   "source": [
    "\n",
    "\n"
   ]
  }
 ],
 "metadata": {
  "kernelspec": {
   "display_name": "Python 3",
   "language": "python",
   "name": "python3"
  },
  "language_info": {
   "codemirror_mode": {
    "name": "ipython",
    "version": 3
   },
   "file_extension": ".py",
   "mimetype": "text/x-python",
   "name": "python",
   "nbconvert_exporter": "python",
   "pygments_lexer": "ipython3",
   "version": "3.9.6"
  },
  "widgets": {
   "application/vnd.jupyter.widget-state+json": {
    "state": {},
    "version_major": 2,
    "version_minor": 0
   }
  }
 },
 "nbformat": 4,
 "nbformat_minor": 5
}
